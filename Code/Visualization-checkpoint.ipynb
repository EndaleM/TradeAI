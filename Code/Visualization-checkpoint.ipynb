{
 "cells": [
  {
   "cell_type": "markdown",
   "metadata": {
    "_cell_guid": "34a019ca-a585-45b5-b830-43f724a88582",
    "_uuid": "6ae5c8ed33691ae1c480849fe1054475629cf1d2"
   },
   "source": [
    "In order to do the analysis, lets **Load the Libraries** and **Read the dataset**"
   ]
  },
  {
   "cell_type": "code",
   "execution_count": null,
   "metadata": {
    "_cell_guid": "1d6ecf9a-74cf-4b81-a01c-381fd899402d",
    "_kg_hide-input": true,
    "_kg_hide-output": true,
    "_uuid": "d2158b8adcc2330ed04994415af79655e14722b4"
   },
   "outputs": [],
   "source": [
    "library(\"readr\") # data input\n",
    "library('tidyr') # data wrangling\n",
    "library('dplyr') # data manipulation\n",
    "library('ggplot2') # visualization\n",
    "library('ggthemes') # visualization\n",
    "library('corrplot') # visualization\n",
    "library('lubridate') # date and time\n",
    "library('purrr') # data manipulation\n",
    "library('cowplot')# visualization\n",
    "library('maps')# visualization\n",
    "library('viridis')# visualization\n",
    "library('treemap')\n",
    "library('leaflet')\n",
    "library('dygraphs')\n",
    "library('graphics')\n",
    "library('forecast')\n",
    "library('xts')\n",
    "library('IRdisplay')\n",
    "options(scipen = 999)\n",
    "options(warn = -1)"
   ]
  },
  {
   "cell_type": "code",
   "execution_count": null,
   "metadata": {},
   "outputs": [],
   "source": [
    "library(tidyverse)"
   ]
  },
  {
   "cell_type": "code",
   "execution_count": null,
   "metadata": {},
   "outputs": [],
   "source": [
    "fao = read.csv('..//input/sugarsoy/Sugardata.csv')\n",
    "fao=fao[ ,-c(1,2,3,5,7,8)]\n",
    "fao[is.na(fao)]=0\n",
    "options(repr.plot.width=10, repr.plot.height=4)\n",
    "fao <- mutate(fao, Total=apply(fao[3:33], 1, sum, na.rm = T))\n",
    "fao <- mutate(fao, last5=apply(fao[27:32], 1, sum, na.rm = T))\n",
    "fao %>% group_by(ReporterName) %>%\n",
    "summarise(TFO = sum(Total)) %>% ungroup()%>%mutate(pct = prop.table(TFO)*100)%>%\n",
    "    top_n(10, wt = pct)%>%\n",
    "    ggplot(aes(x = reorder(ReporterName, -TFO), y = TFO)) + \n",
    "   geom_bar(stat = 'identity', fill = \"grey\", aes(color = I('black')), size = 0.1) + \n",
    "    geom_text(aes(label = sprintf(\"%.2f%%\", pct)), hjust = 0.7,\n",
    "            vjust = -0.5, size = 2)+ theme_bw()+ xlab(\"Country\") + ylab(\"Sugar export\") +\n",
    "theme(axis.text.x = element_text(angle = 90, hjust = 1))"
   ]
  },
  {
   "cell_type": "code",
   "execution_count": null,
   "metadata": {},
   "outputs": [],
   "source": [
    "fao = read.csv('..//input/sugarsoy/Soydata.csv')\n",
    "fao=fao[ ,-c(1,2,3,5,7,8)]\n",
    "fao[is.na(fao)]=0\n",
    "options(repr.plot.width=10, repr.plot.height=4)\n",
    "fao <- mutate(fao, Total=apply(fao[3:33], 1, sum, na.rm = T))\n",
    "fao <- mutate(fao, last5=apply(fao[27:32], 1, sum, na.rm = T))\n",
    "fao %>% group_by(ReporterName) %>%\n",
    "summarise(TFO = sum(Total)) %>% ungroup()%>%mutate(pct = prop.table(TFO)*100)%>%\n",
    "    top_n(10, wt = pct)%>%\n",
    "    ggplot(aes(x = reorder(ReporterName, -TFO), y = TFO)) + \n",
    "   geom_bar(stat = 'identity', fill = \"purple\", aes(color = I('black')), size = 0.1) + \n",
    "    geom_text(aes(label = sprintf(\"%.2f%%\", pct)), hjust = 0.7,\n",
    "            vjust = -0.5, size = 2)+ theme_bw()+ xlab(\"Country\") + ylab(\"Soy export\") +\n",
    "theme(axis.text.x = element_text(angle = 90, hjust = 1))"
   ]
  },
  {
   "cell_type": "code",
   "execution_count": null,
   "metadata": {},
   "outputs": [],
   "source": [
    "fao = read.csv('..//input/wheatdata/Cube1(wheat)Ctry-Ctry-Time.csv')\n",
    "#fao=fao[ ,-c(1,2,3,5,7,8)]\n",
    "fao[is.na(fao)]=0\n",
    "options(repr.plot.width=10, repr.plot.height=4)\n",
    "fao <- mutate(fao, Total=apply(fao[3:33], 1, sum, na.rm = T))\n",
    "fao <- mutate(fao, last5=apply(fao[27:32], 1, sum, na.rm = T))\n",
    "fao %>% group_by(ReporterName) %>%\n",
    "summarise(TFO = sum(Total)) %>% ungroup()%>%mutate(pct = prop.table(TFO)*100)%>%\n",
    "    top_n(10, wt = pct)%>%\n",
    "    ggplot(aes(x = reorder(ReporterName, -TFO), y = TFO)) + \n",
    "   geom_bar(stat = 'identity', fill = \"Blue\", aes(color = I('black')), size = 0.1) + \n",
    "    geom_text(aes(label = sprintf(\"%.2f%%\", pct)), hjust = 0.7,\n",
    "            vjust = -0.5, size = 2)+ theme_bw()+ xlab(\"Country\") + ylab(\"Wheat export\") +\n",
    "theme(axis.text.x = element_text(angle = 90, hjust = 1))\n"
   ]
  },
  {
   "cell_type": "code",
   "execution_count": null,
   "metadata": {},
   "outputs": [],
   "source": [
    "fao = read.csv('..//input/milkdata/milkdata.csv')\n",
    "fao=fao[ ,-c(1,2,3,5,7,8)]\n",
    "fao[is.na(fao)]=0\n",
    "options(repr.plot.width=10, repr.plot.height=4)\n",
    "fao <- mutate(fao, Total=apply(fao[3:33], 1, sum, na.rm = T))\n",
    "fao <- mutate(fao, last5=apply(fao[27:32], 1, sum, na.rm = T))\n",
    "fao %>% group_by(ReporterName) %>%\n",
    "summarise(TFO = sum(Total)) %>% ungroup()%>%mutate(pct = prop.table(TFO)*100)%>%\n",
    "    top_n(10, wt = pct)%>%\n",
    "    ggplot(aes(x = reorder(ReporterName, -TFO), y = TFO)) + \n",
    "   geom_bar(stat = 'identity', fill = \"Red\", aes(color = I('black')), size = 0.1) + \n",
    "    geom_text(aes(label = sprintf(\"%.2f%%\", pct)), hjust = 0.7,\n",
    "            vjust = -0.5, size = 2)+ theme_bw()+ xlab(\"Country\") + ylab(\"Milk export\") +\n",
    "theme(axis.text.x = element_text(angle = 90, hjust = 1))\n"
   ]
  },
  {
   "cell_type": "code",
   "execution_count": null,
   "metadata": {},
   "outputs": [],
   "source": [
    "fao = read.csv('..//input/corndata/Corndata.csv')\n",
    "fao=fao[ ,-c(1,2,3,5,7,8)]\n",
    "fao[is.na(fao)]=0\n",
    "options(repr.plot.width=10, repr.plot.height=4)\n",
    "fao <- mutate(fao, Total=apply(fao[3:33], 1, sum, na.rm = T))\n",
    "fao <- mutate(fao, last5=apply(fao[27:32], 1, sum, na.rm = T))\n",
    "fao %>% group_by(ReporterName) %>%\n",
    "summarise(TFO = sum(Total)) %>% ungroup()%>%mutate(pct = prop.table(TFO)*100)%>%\n",
    "    top_n(10, wt = pct)%>%\n",
    "    ggplot(aes(x = reorder(ReporterName, -TFO), y = TFO)) + \n",
    "   geom_bar(stat = 'identity', fill = \"Green\", aes(color = I('black')), size = 0.1) + \n",
    "    geom_text(aes(label = sprintf(\"%.2f%%\", pct)), hjust = 0.7,\n",
    "            vjust = -0.5, size = 2)+ theme_bw()+ xlab(\"Country\") + ylab(\"Corn export\") +\n",
    "theme(axis.text.x = element_text(angle = 90, hjust = 1))\n"
   ]
  },
  {
   "cell_type": "code",
   "execution_count": null,
   "metadata": {},
   "outputs": [],
   "source": [
    "fao = read.csv('..//input/beefdatacsv/beefdata.csv')\n",
    "fao=fao[ ,-c(1,2,3,5,7,8)]\n",
    "fao[is.na(fao)]=0\n",
    "options(repr.plot.width=10, repr.plot.height=4)\n",
    "fao <- mutate(fao, Total=apply(fao[3:33], 1, sum, na.rm = T))\n",
    "fao <- mutate(fao, last5=apply(fao[27:32], 1, sum, na.rm = T))\n",
    "fao %>% group_by(ReporterName) %>%\n",
    "summarise(TFO = sum(Total)) %>% ungroup()%>%mutate(pct = prop.table(TFO)*100)%>%\n",
    "    top_n(10, wt = pct)%>%\n",
    "    ggplot(aes(x = reorder(ReporterName, -TFO), y = TFO)) + \n",
    "   geom_bar(stat = 'identity', fill = \"Orange\", aes(color = I('black')), size = 0.1) + \n",
    "    geom_text(aes(label = sprintf(\"%.2f%%\", pct)), hjust = 0.7,\n",
    "            vjust = -0.5, size = 2)+ theme_bw()+ xlab(\"Country\") + ylab(\"Beef export\") +\n",
    "theme(axis.text.x = element_text(angle = 90, hjust = 1))\n"
   ]
  },
  {
   "cell_type": "code",
   "execution_count": null,
   "metadata": {},
   "outputs": [],
   "source": [
    "fao = read.csv('..//input/beefdatacsv/beefdata.csv')\n",
    "fao=fao[ ,-c(1,2,3,5,7,8)]\n",
    "fao[is.na(fao)]=0\n",
    "options(repr.plot.width=10, repr.plot.height=4)\n",
    "fao <- mutate(fao, Total=apply(fao[3:33], 1, sum, na.rm = T))\n",
    "fao <- mutate(fao, last5=apply(fao[27:32], 1, sum, na.rm = T))\n",
    "fao %>% group_by(ReporterName) %>%\n",
    "summarise(TFO = sum(Total)) %>% ungroup()%>%mutate(pct = prop.table(TFO)*100)%>%\n",
    "    top_n(10, wt = pct)%>%\n",
    "    ggplot(aes(x = reorder(ReporterName, -TFO), y = TFO)) + \n",
    "   geom_bar(stat = 'identity', fill = \"Orange\", aes(color = I('black')), size = 0.1) + \n",
    "    geom_text(aes(label = sprintf(\"%.2f%%\", pct)), hjust = 0.7,\n",
    "            vjust = -0.5, size = 2)+ theme_bw()+ xlab(\"Country\") + ylab(\"Beef export\") +\n",
    "theme(axis.text.x = element_text(angle = 90, hjust = 1))\n"
   ]
  },
  {
   "cell_type": "code",
   "execution_count": null,
   "metadata": {},
   "outputs": [],
   "source": []
  },
  {
   "cell_type": "code",
   "execution_count": null,
   "metadata": {},
   "outputs": [],
   "source": []
  }
 ],
 "metadata": {
  "kernelspec": {
   "display_name": "R",
   "language": "R",
   "name": "ir"
  },
  "language_info": {
   "codemirror_mode": "r",
   "file_extension": ".r",
   "mimetype": "text/x-r-source",
   "name": "R",
   "pygments_lexer": "r",
   "version": "3.4.2"
  }
 },
 "nbformat": 4,
 "nbformat_minor": 1
}

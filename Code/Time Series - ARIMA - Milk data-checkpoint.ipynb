{
 "cells": [
  {
   "cell_type": "code",
   "execution_count": null,
   "metadata": {
    "_cell_guid": "1d6ecf9a-74cf-4b81-a01c-381fd899402d",
    "_kg_hide-input": true,
    "_kg_hide-output": true,
    "_uuid": "d2158b8adcc2330ed04994415af79655e14722b4"
   },
   "outputs": [],
   "source": [
    "library(\"readr\") # data input\n",
    "library('tidyr') # data wrangling\n",
    "library('dplyr') # data manipulation\n",
    "library('ggplot2') # visualization\n",
    "library('ggthemes') # visualization\n",
    "library('corrplot') # visualization\n",
    "library('lubridate') # date and time\n",
    "library('purrr') # data manipulation\n",
    "library('cowplot')# visualization\n",
    "library('maps')# visualization\n",
    "library('viridis')# visualization\n",
    "library('treemap')\n",
    "library('leaflet')\n",
    "library('dygraphs')\n",
    "library('graphics')\n",
    "library('forecast')\n",
    "library('xts')\n",
    "library('IRdisplay')\n",
    "options(scipen = 999)\n",
    "options(warn = -1)"
   ]
  },
  {
   "cell_type": "code",
   "execution_count": null,
   "metadata": {},
   "outputs": [],
   "source": [
    "fao <-read_csv('../input/milkdata/milkdata.csv')"
   ]
  },
  {
   "cell_type": "code",
   "execution_count": null,
   "metadata": {},
   "outputs": [],
   "source": [
    "names(fao)"
   ]
  },
  {
   "cell_type": "code",
   "execution_count": null,
   "metadata": {},
   "outputs": [],
   "source": [
    "fao[is.na(fao)]=0"
   ]
  },
  {
   "cell_type": "code",
   "execution_count": null,
   "metadata": {},
   "outputs": [],
   "source": [
    "dim(fao)"
   ]
  },
  {
   "cell_type": "code",
   "execution_count": null,
   "metadata": {},
   "outputs": [],
   "source": [
    "fao5 <- fao %>% gather(9:60 ,key = \"year\", value = \"Total\")%>%\n",
    "group_by(ReporterName,year) %>%\n",
    "summarise(TP = sum(Total)) "
   ]
  },
  {
   "cell_type": "code",
   "execution_count": null,
   "metadata": {},
   "outputs": [],
   "source": [
    "fao %>% gather(61:65 ,key = \"year\", value = \"Total\")%>%\n",
    "group_by(ReporterName,year) %>%\n",
    "summarise(TP = sum(Total)) %>% filter(ReporterName == \"United States\")"
   ]
  },
  {
   "cell_type": "code",
   "execution_count": null,
   "metadata": {},
   "outputs": [],
   "source": [
    "fao5 = fao5 %>% filter(ReporterName == \"United States\")"
   ]
  },
  {
   "cell_type": "code",
   "execution_count": null,
   "metadata": {},
   "outputs": [],
   "source": [
    "names(fao5)"
   ]
  },
  {
   "cell_type": "code",
   "execution_count": null,
   "metadata": {},
   "outputs": [],
   "source": [
    "fao5 = fao5[ ,-1]"
   ]
  },
  {
   "cell_type": "code",
   "execution_count": null,
   "metadata": {
    "_cell_guid": "a63a2fd9-7830-40e4-a15f-fa566b269013",
    "_uuid": "1e9eb690e143df3245a853ae646a0742aa9f2ec6"
   },
   "outputs": [],
   "source": [
    "#Loading the required libraries\n",
    "options(repr.plot.width=6, repr.plot.height=4)\n",
    "library(graphics)\n",
    "library(forecast)\n",
    "library(tseries)"
   ]
  },
  {
   "cell_type": "code",
   "execution_count": null,
   "metadata": {},
   "outputs": [],
   "source": [
    "myts <- ts(fao5$TP, start=c(1962, 1), end=c(2012, 1), frequency=1)"
   ]
  },
  {
   "cell_type": "code",
   "execution_count": null,
   "metadata": {
    "_cell_guid": "a16d4c7a-f71b-4526-a133-6c3b062917d1",
    "_uuid": "6a61933f2afd24fee25316d2eb6d673572a24890"
   },
   "outputs": [],
   "source": [
    "plot(myts)"
   ]
  },
  {
   "cell_type": "code",
   "execution_count": null,
   "metadata": {},
   "outputs": [],
   "source": [
    "fit <- arima(myts, order=c(1,0,12))"
   ]
  },
  {
   "cell_type": "code",
   "execution_count": null,
   "metadata": {},
   "outputs": [],
   "source": [
    "tail(fao$)"
   ]
  },
  {
   "cell_type": "code",
   "execution_count": null,
   "metadata": {},
   "outputs": [],
   "source": [
    "library(forecast)\n",
    "accuracy(fit)"
   ]
  },
  {
   "cell_type": "code",
   "execution_count": null,
   "metadata": {},
   "outputs": [],
   "source": [
    "# predict next 5 observations\n",
    "library(forecast)\n",
    "forecast(fit, 8)\n",
    "plot(forecast(fit, 8))"
   ]
  },
  {
   "cell_type": "code",
   "execution_count": null,
   "metadata": {},
   "outputs": [],
   "source": [
    "library(forecast)\n",
    "# Automated forecasting using an exponential model\n",
    "fit <- ets(myts)\n",
    "\n",
    "# Automated forecasting using an ARIMA model\n",
    "fit <- auto.arima(myts)"
   ]
  },
  {
   "cell_type": "code",
   "execution_count": null,
   "metadata": {},
   "outputs": [],
   "source": [
    "plot(forecast(fit, 8))"
   ]
  }
 ],
 "metadata": {
  "kernelspec": {
   "display_name": "Python 3",
   "language": "python",
   "name": "python3"
  },
  "language_info": {
   "codemirror_mode": {
    "name": "ipython",
    "version": 3
   },
   "file_extension": ".py",
   "mimetype": "text/x-python",
   "name": "python",
   "nbconvert_exporter": "python",
   "pygments_lexer": "ipython3",
   "version": "3.7.3"
  }
 },
 "nbformat": 4,
 "nbformat_minor": 1
}

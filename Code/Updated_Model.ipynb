{
 "cells": [
  {
   "cell_type": "code",
   "execution_count": 1,
   "metadata": {
    "_cell_guid": "2dbccbd6-138b-4f1b-9b23-fd60c7525c14",
    "_execution_state": "idle",
    "_uuid": "c9b1d5dff21d39260eb47af6fe7aac4bd03be233"
   },
   "outputs": [],
   "source": [
    "#import some necessary librairies\n",
    "\n",
    "import numpy as np # linear algebra\n",
    "import pandas as pd # data processing, CSV file I/O (e.g. pd.read_csv)\n",
    "%matplotlib inline\n",
    "import matplotlib.pyplot as plt  # Matlab-style plotting\n",
    "import seaborn as sns\n",
    "color = sns.color_palette()\n",
    "sns.set_style('darkgrid')\n",
    "import warnings\n",
    "def ignore_warn(*args, **kwargs):\n",
    "    pass\n",
    "warnings.warn = ignore_warn #ignore annoying warning (from sklearn and seaborn\n",
    "from scipy import stats\n",
    "\n",
    "from scipy.stats import norm, skew #for some statistics\n",
    "pd.set_option('display.float_format', lambda x: '{:.3f}'.format(x)) #Limiting floats output to 3 decimal points\n",
    "\n",
    "from sklearn.metrics import mean_squared_error\n",
    "from math import sqrt\n",
    "from sklearn.metrics import r2_score\n",
    "import lightgbm\n",
    "\n"
   ]
  },
  {
   "cell_type": "code",
   "execution_count": 2,
   "metadata": {},
   "outputs": [],
   "source": [
    "# To manipulate data\n",
    "import pandas as pd\n",
    "import numpy as np\n",
    "import seaborn as sns\n",
    "import matplotlib.pyplot as plt\n",
    "import random\n",
    "from functools import partial\n",
    "from hyperopt import fmin, hp, tpe, Trials, space_eval, STATUS_OK, STATUS_RUNNING\n",
    "from lightgbm import LGBMRegressor\n",
    "import lightgbm as lgb\n",
    "\n",
    "from sklearn.model_selection import train_test_split\n",
    "from sklearn.preprocessing import LabelEncoder\n",
    "\n",
    "from tqdm import tqdm_notebook\n",
    "import warnings\n",
    "warnings.filterwarnings(\"ignore\")"
   ]
  },
  {
   "cell_type": "code",
   "execution_count": 3,
   "metadata": {},
   "outputs": [
    {
     "data": {
      "text/plain": [
       "['Results_Wheat_dataset.xls',\n",
       " 'LightGBM_Imp_gain.png',\n",
       " 'LightGBM_Imp_split.png',\n",
       " 'all_countries_wheat.csv',\n",
       " '.ipynb_checkpoints',\n",
       " 'Updated_Model.ipynb']"
      ]
     },
     "execution_count": 3,
     "metadata": {},
     "output_type": "execute_result"
    }
   ],
   "source": [
    "import os\n",
    "#os.listdir('../input/milktrade/')\n",
    "os.listdir('/Users/ajaykulkarni/OneDrive - George Mason University/Educational Data Mining/XGboost_models/Dataset_wheat/')"
   ]
  },
  {
   "cell_type": "code",
   "execution_count": 4,
   "metadata": {},
   "outputs": [
    {
     "data": {
      "text/plain": [
       "array([1988, 1989, 1990, 1991, 1992, 1993, 1994, 1995, 1996, 1997, 1998,\n",
       "       1999, 2000, 2001, 2002, 2003, 2004, 2005, 2006, 2007, 2008, 2009,\n",
       "       2010, 2011, 2012, 2013, 2014, 2015, 2016])"
      ]
     },
     "execution_count": 4,
     "metadata": {},
     "output_type": "execute_result"
    }
   ],
   "source": [
    "data = pd.read_csv('all_countries_wheat.csv')\n",
    "data['year'].unique()"
   ]
  },
  {
   "cell_type": "code",
   "execution_count": 5,
   "metadata": {},
   "outputs": [],
   "source": [
    "data[\"Tariffs\"].fillna(0, inplace = True) "
   ]
  },
  {
   "cell_type": "code",
   "execution_count": 6,
   "metadata": {},
   "outputs": [],
   "source": [
    "#data = pd.read_csv('../input/sugar22july/sugartrade.csv')\n",
    "data = data[data['year']<2018]"
   ]
  },
  {
   "cell_type": "code",
   "execution_count": 7,
   "metadata": {},
   "outputs": [
    {
     "data": {
      "text/plain": [
       "0       100533.448\n",
       "1       133521.464\n",
       "2       103273.824\n",
       "3        68002.016\n",
       "4        60873.128\n",
       "           ...    \n",
       "33712       95.300\n",
       "33724     3073.699\n",
       "33725     1400.856\n",
       "33728     1361.112\n",
       "33729     3573.192\n",
       "Name: value, Length: 8700, dtype: float64"
      ]
     },
     "execution_count": 7,
     "metadata": {},
     "output_type": "execute_result"
    }
   ],
   "source": [
    "data=data[data['value']>0]\n",
    "data['value']"
   ]
  },
  {
   "cell_type": "code",
   "execution_count": 8,
   "metadata": {},
   "outputs": [
    {
     "data": {
      "text/html": [
       "<div>\n",
       "<style scoped>\n",
       "    .dataframe tbody tr th:only-of-type {\n",
       "        vertical-align: middle;\n",
       "    }\n",
       "\n",
       "    .dataframe tbody tr th {\n",
       "        vertical-align: top;\n",
       "    }\n",
       "\n",
       "    .dataframe thead th {\n",
       "        text-align: right;\n",
       "    }\n",
       "</style>\n",
       "<table border=\"1\" class=\"dataframe\">\n",
       "  <thead>\n",
       "    <tr style=\"text-align: right;\">\n",
       "      <th></th>\n",
       "      <th>Unnamed: 0</th>\n",
       "      <th>Unnamed: 0.1</th>\n",
       "      <th>country_o</th>\n",
       "      <th>country_d</th>\n",
       "      <th>year</th>\n",
       "      <th>value</th>\n",
       "      <th>iso3_d</th>\n",
       "      <th>dynamic_code_d</th>\n",
       "      <th>landlocked_d</th>\n",
       "      <th>island_d</th>\n",
       "      <th>...</th>\n",
       "      <th>hostility_level_d</th>\n",
       "      <th>distance</th>\n",
       "      <th>common_language</th>\n",
       "      <th>colony_of_destination_after45</th>\n",
       "      <th>colony_of_destination_current</th>\n",
       "      <th>colony_of_destination_ever</th>\n",
       "      <th>colony_of_origin_after45</th>\n",
       "      <th>colony_of_origin_current</th>\n",
       "      <th>colony_of_origin_ever</th>\n",
       "      <th>Tariffs</th>\n",
       "    </tr>\n",
       "  </thead>\n",
       "  <tbody>\n",
       "    <tr>\n",
       "      <td>0</td>\n",
       "      <td>0</td>\n",
       "      <td>37532</td>\n",
       "      <td>Algeria</td>\n",
       "      <td>Canada</td>\n",
       "      <td>1988</td>\n",
       "      <td>100533.448</td>\n",
       "      <td>CAN</td>\n",
       "      <td>CAN</td>\n",
       "      <td>0</td>\n",
       "      <td>0</td>\n",
       "      <td>...</td>\n",
       "      <td>0</td>\n",
       "      <td>7244.001</td>\n",
       "      <td>1</td>\n",
       "      <td>0</td>\n",
       "      <td>0</td>\n",
       "      <td>0</td>\n",
       "      <td>0</td>\n",
       "      <td>0</td>\n",
       "      <td>0</td>\n",
       "      <td>49.000</td>\n",
       "    </tr>\n",
       "    <tr>\n",
       "      <td>1</td>\n",
       "      <td>1</td>\n",
       "      <td>41254</td>\n",
       "      <td>Algeria</td>\n",
       "      <td>Canada</td>\n",
       "      <td>1989</td>\n",
       "      <td>133521.464</td>\n",
       "      <td>CAN</td>\n",
       "      <td>CAN</td>\n",
       "      <td>0</td>\n",
       "      <td>0</td>\n",
       "      <td>...</td>\n",
       "      <td>0</td>\n",
       "      <td>7244.001</td>\n",
       "      <td>1</td>\n",
       "      <td>0</td>\n",
       "      <td>0</td>\n",
       "      <td>0</td>\n",
       "      <td>0</td>\n",
       "      <td>0</td>\n",
       "      <td>0</td>\n",
       "      <td>49.000</td>\n",
       "    </tr>\n",
       "    <tr>\n",
       "      <td>2</td>\n",
       "      <td>2</td>\n",
       "      <td>45028</td>\n",
       "      <td>Algeria</td>\n",
       "      <td>Canada</td>\n",
       "      <td>1990</td>\n",
       "      <td>103273.824</td>\n",
       "      <td>CAN</td>\n",
       "      <td>CAN</td>\n",
       "      <td>0</td>\n",
       "      <td>0</td>\n",
       "      <td>...</td>\n",
       "      <td>0</td>\n",
       "      <td>7244.001</td>\n",
       "      <td>1</td>\n",
       "      <td>0</td>\n",
       "      <td>0</td>\n",
       "      <td>0</td>\n",
       "      <td>0</td>\n",
       "      <td>0</td>\n",
       "      <td>0</td>\n",
       "      <td>49.000</td>\n",
       "    </tr>\n",
       "    <tr>\n",
       "      <td>3</td>\n",
       "      <td>3</td>\n",
       "      <td>49055</td>\n",
       "      <td>Algeria</td>\n",
       "      <td>Canada</td>\n",
       "      <td>1991</td>\n",
       "      <td>68002.016</td>\n",
       "      <td>CAN</td>\n",
       "      <td>CAN</td>\n",
       "      <td>0</td>\n",
       "      <td>0</td>\n",
       "      <td>...</td>\n",
       "      <td>0</td>\n",
       "      <td>7244.001</td>\n",
       "      <td>1</td>\n",
       "      <td>0</td>\n",
       "      <td>0</td>\n",
       "      <td>0</td>\n",
       "      <td>0</td>\n",
       "      <td>0</td>\n",
       "      <td>0</td>\n",
       "      <td>49.000</td>\n",
       "    </tr>\n",
       "    <tr>\n",
       "      <td>4</td>\n",
       "      <td>4</td>\n",
       "      <td>53488</td>\n",
       "      <td>Algeria</td>\n",
       "      <td>Canada</td>\n",
       "      <td>1992</td>\n",
       "      <td>60873.128</td>\n",
       "      <td>CAN</td>\n",
       "      <td>CAN</td>\n",
       "      <td>0</td>\n",
       "      <td>0</td>\n",
       "      <td>...</td>\n",
       "      <td>0</td>\n",
       "      <td>7244.001</td>\n",
       "      <td>1</td>\n",
       "      <td>0</td>\n",
       "      <td>0</td>\n",
       "      <td>0</td>\n",
       "      <td>0</td>\n",
       "      <td>0</td>\n",
       "      <td>0</td>\n",
       "      <td>49.000</td>\n",
       "    </tr>\n",
       "  </tbody>\n",
       "</table>\n",
       "<p>5 rows × 74 columns</p>\n",
       "</div>"
      ],
      "text/plain": [
       "   Unnamed: 0  Unnamed: 0.1 country_o country_d  year      value iso3_d  \\\n",
       "0           0         37532   Algeria    Canada  1988 100533.448    CAN   \n",
       "1           1         41254   Algeria    Canada  1989 133521.464    CAN   \n",
       "2           2         45028   Algeria    Canada  1990 103273.824    CAN   \n",
       "3           3         49055   Algeria    Canada  1991  68002.016    CAN   \n",
       "4           4         53488   Algeria    Canada  1992  60873.128    CAN   \n",
       "\n",
       "  dynamic_code_d  landlocked_d  island_d  ... hostility_level_d  distance  \\\n",
       "0            CAN             0         0  ...                 0  7244.001   \n",
       "1            CAN             0         0  ...                 0  7244.001   \n",
       "2            CAN             0         0  ...                 0  7244.001   \n",
       "3            CAN             0         0  ...                 0  7244.001   \n",
       "4            CAN             0         0  ...                 0  7244.001   \n",
       "\n",
       "   common_language  colony_of_destination_after45  \\\n",
       "0                1                              0   \n",
       "1                1                              0   \n",
       "2                1                              0   \n",
       "3                1                              0   \n",
       "4                1                              0   \n",
       "\n",
       "   colony_of_destination_current  colony_of_destination_ever  \\\n",
       "0                              0                           0   \n",
       "1                              0                           0   \n",
       "2                              0                           0   \n",
       "3                              0                           0   \n",
       "4                              0                           0   \n",
       "\n",
       "   colony_of_origin_after45  colony_of_origin_current  colony_of_origin_ever  \\\n",
       "0                         0                         0                      0   \n",
       "1                         0                         0                      0   \n",
       "2                         0                         0                      0   \n",
       "3                         0                         0                      0   \n",
       "4                         0                         0                      0   \n",
       "\n",
       "   Tariffs  \n",
       "0   49.000  \n",
       "1   49.000  \n",
       "2   49.000  \n",
       "3   49.000  \n",
       "4   49.000  \n",
       "\n",
       "[5 rows x 74 columns]"
      ]
     },
     "execution_count": 8,
     "metadata": {},
     "output_type": "execute_result"
    }
   ],
   "source": [
    "data.head()"
   ]
  },
  {
   "cell_type": "code",
   "execution_count": 9,
   "metadata": {},
   "outputs": [
    {
     "data": {
      "text/plain": [
       "(1466, 74)"
      ]
     },
     "execution_count": 9,
     "metadata": {},
     "output_type": "execute_result"
    }
   ],
   "source": [
    "continents = ['Netherlands','Germany','France','New Zealand','United Kingdom']\n",
    "data = data[data.country_o.isin(continents)]\n",
    "data.shape"
   ]
  },
  {
   "cell_type": "code",
   "execution_count": 10,
   "metadata": {},
   "outputs": [
    {
     "data": {
      "text/html": [
       "<div>\n",
       "<style scoped>\n",
       "    .dataframe tbody tr th:only-of-type {\n",
       "        vertical-align: middle;\n",
       "    }\n",
       "\n",
       "    .dataframe tbody tr th {\n",
       "        vertical-align: top;\n",
       "    }\n",
       "\n",
       "    .dataframe thead th {\n",
       "        text-align: right;\n",
       "    }\n",
       "</style>\n",
       "<table border=\"1\" class=\"dataframe\">\n",
       "  <thead>\n",
       "    <tr style=\"text-align: right;\">\n",
       "      <th></th>\n",
       "      <th>Unnamed: 0</th>\n",
       "      <th>Unnamed: 0.1</th>\n",
       "      <th>country_o</th>\n",
       "      <th>country_d</th>\n",
       "      <th>year</th>\n",
       "      <th>value</th>\n",
       "      <th>iso3_d</th>\n",
       "      <th>dynamic_code_d</th>\n",
       "      <th>landlocked_d</th>\n",
       "      <th>island_d</th>\n",
       "      <th>...</th>\n",
       "      <th>hostility_level_d</th>\n",
       "      <th>distance</th>\n",
       "      <th>common_language</th>\n",
       "      <th>colony_of_destination_after45</th>\n",
       "      <th>colony_of_destination_current</th>\n",
       "      <th>colony_of_destination_ever</th>\n",
       "      <th>colony_of_origin_after45</th>\n",
       "      <th>colony_of_origin_current</th>\n",
       "      <th>colony_of_origin_ever</th>\n",
       "      <th>Tariffs</th>\n",
       "    </tr>\n",
       "  </thead>\n",
       "  <tbody>\n",
       "    <tr>\n",
       "      <td>8845</td>\n",
       "      <td>8845</td>\n",
       "      <td>92407</td>\n",
       "      <td>France</td>\n",
       "      <td>Albania</td>\n",
       "      <td>2000</td>\n",
       "      <td>33.837</td>\n",
       "      <td>ALB</td>\n",
       "      <td>ALB</td>\n",
       "      <td>0</td>\n",
       "      <td>0</td>\n",
       "      <td>...</td>\n",
       "      <td>0</td>\n",
       "      <td>1730.745</td>\n",
       "      <td>0</td>\n",
       "      <td>0</td>\n",
       "      <td>0</td>\n",
       "      <td>0</td>\n",
       "      <td>0</td>\n",
       "      <td>0</td>\n",
       "      <td>0</td>\n",
       "      <td>2.000</td>\n",
       "    </tr>\n",
       "    <tr>\n",
       "      <td>8846</td>\n",
       "      <td>8846</td>\n",
       "      <td>97255</td>\n",
       "      <td>France</td>\n",
       "      <td>Albania</td>\n",
       "      <td>2001</td>\n",
       "      <td>47.470</td>\n",
       "      <td>ALB</td>\n",
       "      <td>ALB</td>\n",
       "      <td>0</td>\n",
       "      <td>0</td>\n",
       "      <td>...</td>\n",
       "      <td>0</td>\n",
       "      <td>1730.745</td>\n",
       "      <td>0</td>\n",
       "      <td>0</td>\n",
       "      <td>0</td>\n",
       "      <td>0</td>\n",
       "      <td>0</td>\n",
       "      <td>0</td>\n",
       "      <td>0</td>\n",
       "      <td>2.000</td>\n",
       "    </tr>\n",
       "    <tr>\n",
       "      <td>8903</td>\n",
       "      <td>8903</td>\n",
       "      <td>92409</td>\n",
       "      <td>France</td>\n",
       "      <td>Argentina</td>\n",
       "      <td>2000</td>\n",
       "      <td>19.797</td>\n",
       "      <td>ARG</td>\n",
       "      <td>ARG</td>\n",
       "      <td>0</td>\n",
       "      <td>0</td>\n",
       "      <td>...</td>\n",
       "      <td>0</td>\n",
       "      <td>10852.152</td>\n",
       "      <td>1</td>\n",
       "      <td>0</td>\n",
       "      <td>0</td>\n",
       "      <td>0</td>\n",
       "      <td>0</td>\n",
       "      <td>0</td>\n",
       "      <td>0</td>\n",
       "      <td>5.000</td>\n",
       "    </tr>\n",
       "    <tr>\n",
       "      <td>8904</td>\n",
       "      <td>8904</td>\n",
       "      <td>97257</td>\n",
       "      <td>France</td>\n",
       "      <td>Argentina</td>\n",
       "      <td>2001</td>\n",
       "      <td>49.261</td>\n",
       "      <td>ARG</td>\n",
       "      <td>ARG</td>\n",
       "      <td>0</td>\n",
       "      <td>0</td>\n",
       "      <td>...</td>\n",
       "      <td>0</td>\n",
       "      <td>10852.152</td>\n",
       "      <td>1</td>\n",
       "      <td>0</td>\n",
       "      <td>0</td>\n",
       "      <td>0</td>\n",
       "      <td>0</td>\n",
       "      <td>0</td>\n",
       "      <td>0</td>\n",
       "      <td>5.000</td>\n",
       "    </tr>\n",
       "    <tr>\n",
       "      <td>8907</td>\n",
       "      <td>8907</td>\n",
       "      <td>111805</td>\n",
       "      <td>France</td>\n",
       "      <td>Argentina</td>\n",
       "      <td>2004</td>\n",
       "      <td>1.244</td>\n",
       "      <td>ARG</td>\n",
       "      <td>ARG</td>\n",
       "      <td>0</td>\n",
       "      <td>0</td>\n",
       "      <td>...</td>\n",
       "      <td>0</td>\n",
       "      <td>10852.152</td>\n",
       "      <td>1</td>\n",
       "      <td>0</td>\n",
       "      <td>0</td>\n",
       "      <td>0</td>\n",
       "      <td>0</td>\n",
       "      <td>0</td>\n",
       "      <td>0</td>\n",
       "      <td>5.000</td>\n",
       "    </tr>\n",
       "  </tbody>\n",
       "</table>\n",
       "<p>5 rows × 74 columns</p>\n",
       "</div>"
      ],
      "text/plain": [
       "      Unnamed: 0  Unnamed: 0.1 country_o  country_d  year  value iso3_d  \\\n",
       "8845        8845         92407    France    Albania  2000 33.837    ALB   \n",
       "8846        8846         97255    France    Albania  2001 47.470    ALB   \n",
       "8903        8903         92409    France  Argentina  2000 19.797    ARG   \n",
       "8904        8904         97257    France  Argentina  2001 49.261    ARG   \n",
       "8907        8907        111805    France  Argentina  2004  1.244    ARG   \n",
       "\n",
       "     dynamic_code_d  landlocked_d  island_d  ... hostility_level_d  distance  \\\n",
       "8845            ALB             0         0  ...                 0  1730.745   \n",
       "8846            ALB             0         0  ...                 0  1730.745   \n",
       "8903            ARG             0         0  ...                 0 10852.152   \n",
       "8904            ARG             0         0  ...                 0 10852.152   \n",
       "8907            ARG             0         0  ...                 0 10852.152   \n",
       "\n",
       "      common_language  colony_of_destination_after45  \\\n",
       "8845                0                              0   \n",
       "8846                0                              0   \n",
       "8903                1                              0   \n",
       "8904                1                              0   \n",
       "8907                1                              0   \n",
       "\n",
       "      colony_of_destination_current  colony_of_destination_ever  \\\n",
       "8845                              0                           0   \n",
       "8846                              0                           0   \n",
       "8903                              0                           0   \n",
       "8904                              0                           0   \n",
       "8907                              0                           0   \n",
       "\n",
       "      colony_of_origin_after45  colony_of_origin_current  \\\n",
       "8845                         0                         0   \n",
       "8846                         0                         0   \n",
       "8903                         0                         0   \n",
       "8904                         0                         0   \n",
       "8907                         0                         0   \n",
       "\n",
       "      colony_of_origin_ever  Tariffs  \n",
       "8845                      0    2.000  \n",
       "8846                      0    2.000  \n",
       "8903                      0    5.000  \n",
       "8904                      0    5.000  \n",
       "8907                      0    5.000  \n",
       "\n",
       "[5 rows x 74 columns]"
      ]
     },
     "execution_count": 10,
     "metadata": {},
     "output_type": "execute_result"
    }
   ],
   "source": [
    "df5 = data[data['year'] < 2010]\n",
    "df5.head()"
   ]
  },
  {
   "cell_type": "code",
   "execution_count": 11,
   "metadata": {},
   "outputs": [
    {
     "data": {
      "text/html": [
       "<div>\n",
       "<style scoped>\n",
       "    .dataframe tbody tr th:only-of-type {\n",
       "        vertical-align: middle;\n",
       "    }\n",
       "\n",
       "    .dataframe tbody tr th {\n",
       "        vertical-align: top;\n",
       "    }\n",
       "\n",
       "    .dataframe thead th {\n",
       "        text-align: right;\n",
       "    }\n",
       "</style>\n",
       "<table border=\"1\" class=\"dataframe\">\n",
       "  <thead>\n",
       "    <tr style=\"text-align: right;\">\n",
       "      <th></th>\n",
       "      <th>Unnamed: 0</th>\n",
       "      <th>Unnamed: 0.1</th>\n",
       "      <th>country_o</th>\n",
       "      <th>country_d</th>\n",
       "      <th>year</th>\n",
       "      <th>value</th>\n",
       "      <th>iso3_d</th>\n",
       "      <th>dynamic_code_d</th>\n",
       "      <th>landlocked_d</th>\n",
       "      <th>island_d</th>\n",
       "      <th>...</th>\n",
       "      <th>hostility_level_d</th>\n",
       "      <th>distance</th>\n",
       "      <th>common_language</th>\n",
       "      <th>colony_of_destination_after45</th>\n",
       "      <th>colony_of_destination_current</th>\n",
       "      <th>colony_of_destination_ever</th>\n",
       "      <th>colony_of_origin_after45</th>\n",
       "      <th>colony_of_origin_current</th>\n",
       "      <th>colony_of_origin_ever</th>\n",
       "      <th>Tariffs</th>\n",
       "    </tr>\n",
       "  </thead>\n",
       "  <tbody>\n",
       "    <tr>\n",
       "      <td>8826</td>\n",
       "      <td>8826</td>\n",
       "      <td>140987</td>\n",
       "      <td>France</td>\n",
       "      <td>Afghanistan</td>\n",
       "      <td>2010</td>\n",
       "      <td>79.529</td>\n",
       "      <td>AFG</td>\n",
       "      <td>AFG</td>\n",
       "      <td>1</td>\n",
       "      <td>0</td>\n",
       "      <td>...</td>\n",
       "      <td>0</td>\n",
       "      <td>5632.785</td>\n",
       "      <td>0</td>\n",
       "      <td>0</td>\n",
       "      <td>0</td>\n",
       "      <td>0</td>\n",
       "      <td>0</td>\n",
       "      <td>0</td>\n",
       "      <td>0</td>\n",
       "      <td>2.500</td>\n",
       "    </tr>\n",
       "    <tr>\n",
       "      <td>8845</td>\n",
       "      <td>8845</td>\n",
       "      <td>92407</td>\n",
       "      <td>France</td>\n",
       "      <td>Albania</td>\n",
       "      <td>2000</td>\n",
       "      <td>33.837</td>\n",
       "      <td>ALB</td>\n",
       "      <td>ALB</td>\n",
       "      <td>0</td>\n",
       "      <td>0</td>\n",
       "      <td>...</td>\n",
       "      <td>0</td>\n",
       "      <td>1730.745</td>\n",
       "      <td>0</td>\n",
       "      <td>0</td>\n",
       "      <td>0</td>\n",
       "      <td>0</td>\n",
       "      <td>0</td>\n",
       "      <td>0</td>\n",
       "      <td>0</td>\n",
       "      <td>2.000</td>\n",
       "    </tr>\n",
       "    <tr>\n",
       "      <td>8846</td>\n",
       "      <td>8846</td>\n",
       "      <td>97255</td>\n",
       "      <td>France</td>\n",
       "      <td>Albania</td>\n",
       "      <td>2001</td>\n",
       "      <td>47.470</td>\n",
       "      <td>ALB</td>\n",
       "      <td>ALB</td>\n",
       "      <td>0</td>\n",
       "      <td>0</td>\n",
       "      <td>...</td>\n",
       "      <td>0</td>\n",
       "      <td>1730.745</td>\n",
       "      <td>0</td>\n",
       "      <td>0</td>\n",
       "      <td>0</td>\n",
       "      <td>0</td>\n",
       "      <td>0</td>\n",
       "      <td>0</td>\n",
       "      <td>0</td>\n",
       "      <td>2.000</td>\n",
       "    </tr>\n",
       "    <tr>\n",
       "      <td>8855</td>\n",
       "      <td>8855</td>\n",
       "      <td>140988</td>\n",
       "      <td>France</td>\n",
       "      <td>Albania</td>\n",
       "      <td>2010</td>\n",
       "      <td>758.173</td>\n",
       "      <td>ALB</td>\n",
       "      <td>ALB</td>\n",
       "      <td>0</td>\n",
       "      <td>0</td>\n",
       "      <td>...</td>\n",
       "      <td>0</td>\n",
       "      <td>1730.745</td>\n",
       "      <td>0</td>\n",
       "      <td>0</td>\n",
       "      <td>0</td>\n",
       "      <td>0</td>\n",
       "      <td>0</td>\n",
       "      <td>0</td>\n",
       "      <td>0</td>\n",
       "      <td>2.000</td>\n",
       "    </tr>\n",
       "    <tr>\n",
       "      <td>8903</td>\n",
       "      <td>8903</td>\n",
       "      <td>92409</td>\n",
       "      <td>France</td>\n",
       "      <td>Argentina</td>\n",
       "      <td>2000</td>\n",
       "      <td>19.797</td>\n",
       "      <td>ARG</td>\n",
       "      <td>ARG</td>\n",
       "      <td>0</td>\n",
       "      <td>0</td>\n",
       "      <td>...</td>\n",
       "      <td>0</td>\n",
       "      <td>10852.152</td>\n",
       "      <td>1</td>\n",
       "      <td>0</td>\n",
       "      <td>0</td>\n",
       "      <td>0</td>\n",
       "      <td>0</td>\n",
       "      <td>0</td>\n",
       "      <td>0</td>\n",
       "      <td>5.000</td>\n",
       "    </tr>\n",
       "  </tbody>\n",
       "</table>\n",
       "<p>5 rows × 74 columns</p>\n",
       "</div>"
      ],
      "text/plain": [
       "      Unnamed: 0  Unnamed: 0.1 country_o    country_d  year   value iso3_d  \\\n",
       "8826        8826        140987    France  Afghanistan  2010  79.529    AFG   \n",
       "8845        8845         92407    France      Albania  2000  33.837    ALB   \n",
       "8846        8846         97255    France      Albania  2001  47.470    ALB   \n",
       "8855        8855        140988    France      Albania  2010 758.173    ALB   \n",
       "8903        8903         92409    France    Argentina  2000  19.797    ARG   \n",
       "\n",
       "     dynamic_code_d  landlocked_d  island_d  ... hostility_level_d  distance  \\\n",
       "8826            AFG             1         0  ...                 0  5632.785   \n",
       "8845            ALB             0         0  ...                 0  1730.745   \n",
       "8846            ALB             0         0  ...                 0  1730.745   \n",
       "8855            ALB             0         0  ...                 0  1730.745   \n",
       "8903            ARG             0         0  ...                 0 10852.152   \n",
       "\n",
       "      common_language  colony_of_destination_after45  \\\n",
       "8826                0                              0   \n",
       "8845                0                              0   \n",
       "8846                0                              0   \n",
       "8855                0                              0   \n",
       "8903                1                              0   \n",
       "\n",
       "      colony_of_destination_current  colony_of_destination_ever  \\\n",
       "8826                              0                           0   \n",
       "8845                              0                           0   \n",
       "8846                              0                           0   \n",
       "8855                              0                           0   \n",
       "8903                              0                           0   \n",
       "\n",
       "      colony_of_origin_after45  colony_of_origin_current  \\\n",
       "8826                         0                         0   \n",
       "8845                         0                         0   \n",
       "8846                         0                         0   \n",
       "8855                         0                         0   \n",
       "8903                         0                         0   \n",
       "\n",
       "      colony_of_origin_ever  Tariffs  \n",
       "8826                      0    2.500  \n",
       "8845                      0    2.000  \n",
       "8846                      0    2.000  \n",
       "8855                      0    2.000  \n",
       "8903                      0    5.000  \n",
       "\n",
       "[5 rows x 74 columns]"
      ]
     },
     "execution_count": 11,
     "metadata": {},
     "output_type": "execute_result"
    }
   ],
   "source": [
    "## Updated code\n",
    "df6 = data[data['year'] <= 2010]\n",
    "df6.head()\n",
    "#df6['value']\n",
    "#df6['year'].unique()\n",
    "# df6.shape = (1299, 75)"
   ]
  },
  {
   "cell_type": "code",
   "execution_count": 12,
   "metadata": {},
   "outputs": [
    {
     "data": {
      "text/plain": [
       "array([2014, 2011, 2012, 2013, 2015, 2016])"
      ]
     },
     "execution_count": 12,
     "metadata": {},
     "output_type": "execute_result"
    }
   ],
   "source": [
    "## Updated code\n",
    "df7 = data[data['year'] > 2010]\n",
    "df7.head()\n",
    "df7['year'].unique()\n",
    "# df7.shape = (604, 75)"
   ]
  },
  {
   "cell_type": "code",
   "execution_count": 13,
   "metadata": {},
   "outputs": [],
   "source": [
    "y=data['value']\n",
    "## Updated code\n",
    "y1 = df6['value']\n",
    "y2 = df7['value']"
   ]
  },
  {
   "cell_type": "code",
   "execution_count": 14,
   "metadata": {},
   "outputs": [],
   "source": [
    "#train = data.iloc[ :df5.shape[0]]\n",
    "#test = data.iloc[df5.shape[0]:]\n",
    "#trainy = y.iloc[:df5.shape[0]]\n",
    "#testy = y.iloc[df5.shape[0]:]\n",
    "\n",
    "## Updated code\n",
    "y1 = df6['value']\n",
    "y2 = df7['value']\n",
    "train = df6.loc[:, df6.columns != 'value']\n",
    "test = df7.loc[:, df7.columns != 'value']\n",
    "trainy = y1\n",
    "testy = y2"
   ]
  },
  {
   "cell_type": "code",
   "execution_count": 15,
   "metadata": {},
   "outputs": [
    {
     "data": {
      "text/plain": [
       "array([2014, 2011, 2012, 2013, 2015, 2016])"
      ]
     },
     "execution_count": 15,
     "metadata": {},
     "output_type": "execute_result"
    }
   ],
   "source": [
    "df20 = test[['country_o','country_d','year']]\n",
    "df20.head()\n",
    "df20['year'].unique()"
   ]
  },
  {
   "cell_type": "code",
   "execution_count": 16,
   "metadata": {},
   "outputs": [
    {
     "data": {
      "text/html": [
       "<div>\n",
       "<style scoped>\n",
       "    .dataframe tbody tr th:only-of-type {\n",
       "        vertical-align: middle;\n",
       "    }\n",
       "\n",
       "    .dataframe tbody tr th {\n",
       "        vertical-align: top;\n",
       "    }\n",
       "\n",
       "    .dataframe thead th {\n",
       "        text-align: right;\n",
       "    }\n",
       "</style>\n",
       "<table border=\"1\" class=\"dataframe\">\n",
       "  <thead>\n",
       "    <tr style=\"text-align: right;\">\n",
       "      <th></th>\n",
       "      <th>Unnamed: 0</th>\n",
       "      <th>Unnamed: 0.1</th>\n",
       "      <th>year</th>\n",
       "      <th>value</th>\n",
       "      <th>landlocked_d</th>\n",
       "      <th>island_d</th>\n",
       "      <th>gdp_pwt_const_d</th>\n",
       "      <th>pop_d</th>\n",
       "      <th>gdp_pwt_cur_d</th>\n",
       "      <th>capital_cur_d</th>\n",
       "      <th>...</th>\n",
       "      <th>iso3_o_GBR</th>\n",
       "      <th>iso3_o_NLD</th>\n",
       "      <th>iso3_o_NZL</th>\n",
       "      <th>dynamic_code_o_DEU</th>\n",
       "      <th>dynamic_code_o_FRA</th>\n",
       "      <th>dynamic_code_o_GBR</th>\n",
       "      <th>dynamic_code_o_NLD</th>\n",
       "      <th>dynamic_code_o_NZL</th>\n",
       "      <th>region_o_europe</th>\n",
       "      <th>region_o_pacific</th>\n",
       "    </tr>\n",
       "  </thead>\n",
       "  <tbody>\n",
       "    <tr>\n",
       "      <td>8826</td>\n",
       "      <td>8826</td>\n",
       "      <td>140987</td>\n",
       "      <td>2010</td>\n",
       "      <td>79.529</td>\n",
       "      <td>1</td>\n",
       "      <td>0</td>\n",
       "      <td>0.000</td>\n",
       "      <td>0.000</td>\n",
       "      <td>0.000</td>\n",
       "      <td>0.000</td>\n",
       "      <td>...</td>\n",
       "      <td>0</td>\n",
       "      <td>0</td>\n",
       "      <td>0</td>\n",
       "      <td>0</td>\n",
       "      <td>1</td>\n",
       "      <td>0</td>\n",
       "      <td>0</td>\n",
       "      <td>0</td>\n",
       "      <td>1</td>\n",
       "      <td>0</td>\n",
       "    </tr>\n",
       "    <tr>\n",
       "      <td>8845</td>\n",
       "      <td>8845</td>\n",
       "      <td>92407</td>\n",
       "      <td>2000</td>\n",
       "      <td>33.837</td>\n",
       "      <td>0</td>\n",
       "      <td>0</td>\n",
       "      <td>16415.789</td>\n",
       "      <td>3.122</td>\n",
       "      <td>15860.172</td>\n",
       "      <td>33585.980</td>\n",
       "      <td>...</td>\n",
       "      <td>0</td>\n",
       "      <td>0</td>\n",
       "      <td>0</td>\n",
       "      <td>0</td>\n",
       "      <td>1</td>\n",
       "      <td>0</td>\n",
       "      <td>0</td>\n",
       "      <td>0</td>\n",
       "      <td>1</td>\n",
       "      <td>0</td>\n",
       "    </tr>\n",
       "    <tr>\n",
       "      <td>8846</td>\n",
       "      <td>8846</td>\n",
       "      <td>97255</td>\n",
       "      <td>2001</td>\n",
       "      <td>47.470</td>\n",
       "      <td>0</td>\n",
       "      <td>0</td>\n",
       "      <td>16868.885</td>\n",
       "      <td>3.124</td>\n",
       "      <td>16339.177</td>\n",
       "      <td>35365.605</td>\n",
       "      <td>...</td>\n",
       "      <td>0</td>\n",
       "      <td>0</td>\n",
       "      <td>0</td>\n",
       "      <td>0</td>\n",
       "      <td>1</td>\n",
       "      <td>0</td>\n",
       "      <td>0</td>\n",
       "      <td>0</td>\n",
       "      <td>1</td>\n",
       "      <td>0</td>\n",
       "    </tr>\n",
       "    <tr>\n",
       "      <td>8855</td>\n",
       "      <td>8855</td>\n",
       "      <td>140988</td>\n",
       "      <td>2010</td>\n",
       "      <td>758.173</td>\n",
       "      <td>0</td>\n",
       "      <td>0</td>\n",
       "      <td>26685.547</td>\n",
       "      <td>2.902</td>\n",
       "      <td>26839.920</td>\n",
       "      <td>94202.336</td>\n",
       "      <td>...</td>\n",
       "      <td>0</td>\n",
       "      <td>0</td>\n",
       "      <td>0</td>\n",
       "      <td>0</td>\n",
       "      <td>1</td>\n",
       "      <td>0</td>\n",
       "      <td>0</td>\n",
       "      <td>0</td>\n",
       "      <td>1</td>\n",
       "      <td>0</td>\n",
       "    </tr>\n",
       "    <tr>\n",
       "      <td>8859</td>\n",
       "      <td>8859</td>\n",
       "      <td>160414</td>\n",
       "      <td>2014</td>\n",
       "      <td>0.086</td>\n",
       "      <td>0</td>\n",
       "      <td>0</td>\n",
       "      <td>31845.375</td>\n",
       "      <td>2.890</td>\n",
       "      <td>31419.963</td>\n",
       "      <td>112792.830</td>\n",
       "      <td>...</td>\n",
       "      <td>0</td>\n",
       "      <td>0</td>\n",
       "      <td>0</td>\n",
       "      <td>0</td>\n",
       "      <td>1</td>\n",
       "      <td>0</td>\n",
       "      <td>0</td>\n",
       "      <td>0</td>\n",
       "      <td>1</td>\n",
       "      <td>0</td>\n",
       "    </tr>\n",
       "  </tbody>\n",
       "</table>\n",
       "<p>5 rows × 337 columns</p>\n",
       "</div>"
      ],
      "text/plain": [
       "      Unnamed: 0  Unnamed: 0.1  year   value  landlocked_d  island_d  \\\n",
       "8826        8826        140987  2010  79.529             1         0   \n",
       "8845        8845         92407  2000  33.837             0         0   \n",
       "8846        8846         97255  2001  47.470             0         0   \n",
       "8855        8855        140988  2010 758.173             0         0   \n",
       "8859        8859        160414  2014   0.086             0         0   \n",
       "\n",
       "      gdp_pwt_const_d  pop_d  gdp_pwt_cur_d  capital_cur_d  ...  iso3_o_GBR  \\\n",
       "8826            0.000  0.000          0.000          0.000  ...           0   \n",
       "8845        16415.789  3.122      15860.172      33585.980  ...           0   \n",
       "8846        16868.885  3.124      16339.177      35365.605  ...           0   \n",
       "8855        26685.547  2.902      26839.920      94202.336  ...           0   \n",
       "8859        31845.375  2.890      31419.963     112792.830  ...           0   \n",
       "\n",
       "      iso3_o_NLD  iso3_o_NZL  dynamic_code_o_DEU  dynamic_code_o_FRA  \\\n",
       "8826           0           0                   0                   1   \n",
       "8845           0           0                   0                   1   \n",
       "8846           0           0                   0                   1   \n",
       "8855           0           0                   0                   1   \n",
       "8859           0           0                   0                   1   \n",
       "\n",
       "      dynamic_code_o_GBR  dynamic_code_o_NLD  dynamic_code_o_NZL  \\\n",
       "8826                   0                   0                   0   \n",
       "8845                   0                   0                   0   \n",
       "8846                   0                   0                   0   \n",
       "8855                   0                   0                   0   \n",
       "8859                   0                   0                   0   \n",
       "\n",
       "      region_o_europe  region_o_pacific  \n",
       "8826                1                 0  \n",
       "8845                1                 0  \n",
       "8846                1                 0  \n",
       "8855                1                 0  \n",
       "8859                1                 0  \n",
       "\n",
       "[5 rows x 337 columns]"
      ]
     },
     "execution_count": 16,
     "metadata": {},
     "output_type": "execute_result"
    }
   ],
   "source": [
    "data = pd.get_dummies(data)\n",
    "data.head()\n",
    "#data.shape\n",
    "#y=data['value']"
   ]
  },
  {
   "cell_type": "code",
   "execution_count": 17,
   "metadata": {},
   "outputs": [
    {
     "data": {
      "text/plain": [
       "(1466, 37)"
      ]
     },
     "execution_count": 17,
     "metadata": {},
     "output_type": "execute_result"
    }
   ],
   "source": [
    "data = data[['year','landlocked_d','island_d','pop_d','gdp_wdi_cap_cur_d','lat_d','lng_d',\n",
    "'polity_d','landlocked_o','island_o','pop_o','gdp_wdi_cap_cur_o','lat_o','lng_o','polity_o','contiguity','agree_pta_goods','agree_pta_services',\n",
    "'agree_cu','agree_eia','agree_fta','sanction_threat_trade','sanction_imposition_trade','member_eu_o','member_wto_o','member_gatt_o',\n",
    "'member_eu_d','member_wto_d','member_gatt_d','hostility_level_o','hostility_level_d','distance','common_language','colony_of_destination_ever',\n",
    "'colony_of_origin_ever', 'Tariffs', 'value']]\n",
    "#data['year'].unique()\n",
    "data.shape"
   ]
  },
  {
   "cell_type": "code",
   "execution_count": 18,
   "metadata": {},
   "outputs": [],
   "source": [
    "#data=data.drop(['value','Unnamed: 0','gdp_wdi_cur_d','gdp_wdi_const_d','gdp_wdi_cap_cur_d','gdp_wdi_cap_const_d',\n",
    " #            'gdp_pwt_cur_o','gdp_wdi_cur_o','gdp_wdi_const_o','gdp_wdi_cap_cur_o','gdp_wdi_cap_const_o','gdp_pwt_cur_d'],axis=1)\n",
    "#df5 = data[data['year'] < 2010]\n",
    "#df5.shape\n",
    "\n",
    "\n",
    "# Updated code\n",
    "df6 = data[data['year'] <= 2010]\n",
    "#df6.head()\n",
    "#df6['year'].unique()\n",
    "#df6.shape #= (27153, 36)\n",
    "\n",
    "## Updated code\n",
    "df7 = data[data['year'] > 2010]\n",
    "#df7.head()\n",
    "#df7['year'].unique()\n",
    "#df7.shape #= (7290, 36)\n"
   ]
  },
  {
   "cell_type": "code",
   "execution_count": 19,
   "metadata": {},
   "outputs": [],
   "source": [
    "#train = data.iloc[ :df5.shape[0]]\n",
    "#test = data.iloc[df5.shape[0]:]\n",
    "#trainy = y.iloc[:df5.shape[0]]\n",
    "#testy = y.iloc[df5.shape[0]:]\n",
    "\n",
    "## Updated code\n",
    "y1 = df6['value']\n",
    "y2 = df7['value']\n",
    "train = df6.loc[:, df6.columns != 'value']\n",
    "test = df7.loc[:, df7.columns != 'value']\n",
    "trainy = y1\n",
    "testy = y2"
   ]
  },
  {
   "cell_type": "code",
   "execution_count": 20,
   "metadata": {},
   "outputs": [
    {
     "data": {
      "text/plain": [
       "(570, 36)"
      ]
     },
     "execution_count": 20,
     "metadata": {},
     "output_type": "execute_result"
    }
   ],
   "source": [
    "df5 = train[train['year'] < 2005]\n",
    "df5.shape"
   ]
  },
  {
   "cell_type": "code",
   "execution_count": 21,
   "metadata": {},
   "outputs": [],
   "source": [
    "X_train = train.iloc[ :df5.shape[0]]\n",
    "X_val = train.iloc[df5.shape[0]:]\n",
    "y_train = trainy.iloc[:df5.shape[0]]\n",
    "y_val = trainy.iloc[df5.shape[0]:]"
   ]
  },
  {
   "cell_type": "code",
   "execution_count": 22,
   "metadata": {},
   "outputs": [
    {
     "name": "stdout",
     "output_type": "stream",
     "text": [
      "(570, 36)\n",
      "(335, 36)\n",
      "(561, 36)\n"
     ]
    },
    {
     "data": {
      "text/html": [
       "<div>\n",
       "<style scoped>\n",
       "    .dataframe tbody tr th:only-of-type {\n",
       "        vertical-align: middle;\n",
       "    }\n",
       "\n",
       "    .dataframe tbody tr th {\n",
       "        vertical-align: top;\n",
       "    }\n",
       "\n",
       "    .dataframe thead th {\n",
       "        text-align: right;\n",
       "    }\n",
       "</style>\n",
       "<table border=\"1\" class=\"dataframe\">\n",
       "  <thead>\n",
       "    <tr style=\"text-align: right;\">\n",
       "      <th></th>\n",
       "      <th>year</th>\n",
       "      <th>landlocked_d</th>\n",
       "      <th>island_d</th>\n",
       "      <th>pop_d</th>\n",
       "      <th>gdp_wdi_cap_cur_d</th>\n",
       "      <th>lat_d</th>\n",
       "      <th>lng_d</th>\n",
       "      <th>polity_d</th>\n",
       "      <th>landlocked_o</th>\n",
       "      <th>island_o</th>\n",
       "      <th>...</th>\n",
       "      <th>member_eu_d</th>\n",
       "      <th>member_wto_d</th>\n",
       "      <th>member_gatt_d</th>\n",
       "      <th>hostility_level_o</th>\n",
       "      <th>hostility_level_d</th>\n",
       "      <th>distance</th>\n",
       "      <th>common_language</th>\n",
       "      <th>colony_of_destination_ever</th>\n",
       "      <th>colony_of_origin_ever</th>\n",
       "      <th>Tariffs</th>\n",
       "    </tr>\n",
       "  </thead>\n",
       "  <tbody>\n",
       "    <tr>\n",
       "      <td>8826</td>\n",
       "      <td>2010</td>\n",
       "      <td>1</td>\n",
       "      <td>0</td>\n",
       "      <td>0.000</td>\n",
       "      <td>569.941</td>\n",
       "      <td>34.649</td>\n",
       "      <td>67.114</td>\n",
       "      <td>0</td>\n",
       "      <td>0</td>\n",
       "      <td>0</td>\n",
       "      <td>...</td>\n",
       "      <td>0</td>\n",
       "      <td>0</td>\n",
       "      <td>0</td>\n",
       "      <td>0</td>\n",
       "      <td>0</td>\n",
       "      <td>5632.785</td>\n",
       "      <td>0</td>\n",
       "      <td>0</td>\n",
       "      <td>0</td>\n",
       "      <td>2.500</td>\n",
       "    </tr>\n",
       "    <tr>\n",
       "      <td>8845</td>\n",
       "      <td>2000</td>\n",
       "      <td>0</td>\n",
       "      <td>0</td>\n",
       "      <td>3.122</td>\n",
       "      <td>1175.789</td>\n",
       "      <td>41.094</td>\n",
       "      <td>20.046</td>\n",
       "      <td>5</td>\n",
       "      <td>0</td>\n",
       "      <td>0</td>\n",
       "      <td>...</td>\n",
       "      <td>0</td>\n",
       "      <td>1</td>\n",
       "      <td>0</td>\n",
       "      <td>0</td>\n",
       "      <td>0</td>\n",
       "      <td>1730.745</td>\n",
       "      <td>0</td>\n",
       "      <td>0</td>\n",
       "      <td>0</td>\n",
       "      <td>2.000</td>\n",
       "    </tr>\n",
       "    <tr>\n",
       "      <td>8846</td>\n",
       "      <td>2001</td>\n",
       "      <td>0</td>\n",
       "      <td>0</td>\n",
       "      <td>3.124</td>\n",
       "      <td>1326.970</td>\n",
       "      <td>41.094</td>\n",
       "      <td>20.046</td>\n",
       "      <td>5</td>\n",
       "      <td>0</td>\n",
       "      <td>0</td>\n",
       "      <td>...</td>\n",
       "      <td>0</td>\n",
       "      <td>1</td>\n",
       "      <td>0</td>\n",
       "      <td>0</td>\n",
       "      <td>0</td>\n",
       "      <td>1730.745</td>\n",
       "      <td>0</td>\n",
       "      <td>0</td>\n",
       "      <td>0</td>\n",
       "      <td>2.000</td>\n",
       "    </tr>\n",
       "    <tr>\n",
       "      <td>8855</td>\n",
       "      <td>2010</td>\n",
       "      <td>0</td>\n",
       "      <td>0</td>\n",
       "      <td>2.902</td>\n",
       "      <td>4094.359</td>\n",
       "      <td>41.094</td>\n",
       "      <td>20.046</td>\n",
       "      <td>9</td>\n",
       "      <td>0</td>\n",
       "      <td>0</td>\n",
       "      <td>...</td>\n",
       "      <td>0</td>\n",
       "      <td>1</td>\n",
       "      <td>0</td>\n",
       "      <td>0</td>\n",
       "      <td>0</td>\n",
       "      <td>1730.745</td>\n",
       "      <td>0</td>\n",
       "      <td>0</td>\n",
       "      <td>0</td>\n",
       "      <td>2.000</td>\n",
       "    </tr>\n",
       "    <tr>\n",
       "      <td>8903</td>\n",
       "      <td>2000</td>\n",
       "      <td>0</td>\n",
       "      <td>0</td>\n",
       "      <td>37.057</td>\n",
       "      <td>7669.274</td>\n",
       "      <td>-34.092</td>\n",
       "      <td>-63.943</td>\n",
       "      <td>8</td>\n",
       "      <td>0</td>\n",
       "      <td>0</td>\n",
       "      <td>...</td>\n",
       "      <td>0</td>\n",
       "      <td>1</td>\n",
       "      <td>1</td>\n",
       "      <td>0</td>\n",
       "      <td>0</td>\n",
       "      <td>10852.152</td>\n",
       "      <td>1</td>\n",
       "      <td>0</td>\n",
       "      <td>0</td>\n",
       "      <td>5.000</td>\n",
       "    </tr>\n",
       "  </tbody>\n",
       "</table>\n",
       "<p>5 rows × 36 columns</p>\n",
       "</div>"
      ],
      "text/plain": [
       "      year  landlocked_d  island_d  pop_d  gdp_wdi_cap_cur_d   lat_d   lng_d  \\\n",
       "8826  2010             1         0  0.000            569.941  34.649  67.114   \n",
       "8845  2000             0         0  3.122           1175.789  41.094  20.046   \n",
       "8846  2001             0         0  3.124           1326.970  41.094  20.046   \n",
       "8855  2010             0         0  2.902           4094.359  41.094  20.046   \n",
       "8903  2000             0         0 37.057           7669.274 -34.092 -63.943   \n",
       "\n",
       "      polity_d  landlocked_o  island_o  ...  member_eu_d  member_wto_d  \\\n",
       "8826         0             0         0  ...            0             0   \n",
       "8845         5             0         0  ...            0             1   \n",
       "8846         5             0         0  ...            0             1   \n",
       "8855         9             0         0  ...            0             1   \n",
       "8903         8             0         0  ...            0             1   \n",
       "\n",
       "      member_gatt_d  hostility_level_o  hostility_level_d  distance  \\\n",
       "8826              0                  0                  0  5632.785   \n",
       "8845              0                  0                  0  1730.745   \n",
       "8846              0                  0                  0  1730.745   \n",
       "8855              0                  0                  0  1730.745   \n",
       "8903              1                  0                  0 10852.152   \n",
       "\n",
       "      common_language  colony_of_destination_ever  colony_of_origin_ever  \\\n",
       "8826                0                           0                      0   \n",
       "8845                0                           0                      0   \n",
       "8846                0                           0                      0   \n",
       "8855                0                           0                      0   \n",
       "8903                1                           0                      0   \n",
       "\n",
       "      Tariffs  \n",
       "8826    2.500  \n",
       "8845    2.000  \n",
       "8846    2.000  \n",
       "8855    2.000  \n",
       "8903    5.000  \n",
       "\n",
       "[5 rows x 36 columns]"
      ]
     },
     "execution_count": 22,
     "metadata": {},
     "output_type": "execute_result"
    }
   ],
   "source": [
    "print(X_train.shape)\n",
    "print(X_val.shape)\n",
    "print(test.shape)\n",
    "\n",
    "X_train.head()"
   ]
  },
  {
   "cell_type": "code",
   "execution_count": 23,
   "metadata": {},
   "outputs": [],
   "source": [
    "import lightgbm\n",
    "lgtrain = lightgbm.Dataset(train,trainy)\n",
    "lgvalid = lightgbm.Dataset(test,testy)\n"
   ]
  },
  {
   "cell_type": "code",
   "execution_count": 24,
   "metadata": {},
   "outputs": [
    {
     "name": "stdout",
     "output_type": "stream",
     "text": [
      "Training until validation scores don't improve for 50 rounds\n",
      "Early stopping, best iteration is:\n",
      "[401]\ttrain's rmse: 2833.5\tvalid's rmse: 29574.8\n"
     ]
    }
   ],
   "source": [
    "params = {\n",
    "    'objective' : 'regression',\n",
    "    'metric' : 'rmse',\n",
    "    'num_leaves' : 100,\n",
    "    'max_depth': 10,\n",
    "    'learning_rate' : 0.1,\n",
    "    'feature_fraction' : 0.6,\n",
    "    'verbosity' : -1\n",
    "}\n",
    "lgb_clf = lgb.train(\n",
    "    params,\n",
    "    lgtrain,\n",
    "    500,\n",
    "    valid_sets=[lgtrain, lgvalid],\n",
    "    valid_names=[\"train\", \"valid\"],\n",
    "    early_stopping_rounds=50,\n",
    "    verbose_eval=500\n",
    ")\n",
    "#print(\"RMSE of the validation set:\", np.sqrt(mean_squared_error(y_valid, lgb_clf.predict(X_valid))))"
   ]
  },
  {
   "cell_type": "code",
   "execution_count": 25,
   "metadata": {},
   "outputs": [
    {
     "name": "stdout",
     "output_type": "stream",
     "text": [
      "R^2 of the validation set: 0.6351463589558548\n"
     ]
    }
   ],
   "source": [
    "print(\"R^2 of the validation set:\", r2_score(testy, lgb_clf.predict(test)))\n",
    "\n",
    "#lgb.plot_importance(lgb_clf, importance_type='split', max_num_features=20)"
   ]
  },
  {
   "cell_type": "code",
   "execution_count": 26,
   "metadata": {},
   "outputs": [
    {
     "data": {
      "image/png": "[encoded data removed]",
      "text/plain": [
       "<Figure size 720x720 with 1 Axes>"
      ]
     },
     "metadata": {
      "needs_background": "light"
     },
     "output_type": "display_data"
    }
   ],
   "source": [
    "fig, ax = plt.subplots(figsize=(10,10))\n",
    "lgb.plot_importance(lgb_clf,height=0.8, ax=ax)\n",
    "ax.grid(False)\n",
    "plt.title(\"LightGBM - Feature Importance\", fontsize=15)\n",
    "plt.show()"
   ]
  },
  {
   "cell_type": "code",
   "execution_count": 27,
   "metadata": {},
   "outputs": [
    {
     "data": {
      "image/png": "[encoded data removed]",
      "text/plain": [
       "<Figure size 720x720 with 1 Axes>"
      ]
     },
     "metadata": {
      "needs_background": "light"
     },
     "output_type": "display_data"
    }
   ],
   "source": [
    "fig, ax = plt.subplots(figsize=(10,10))\n",
    "lgb.plot_importance(lgb_clf,importance_type = \"gain\",height=0.8, ax=ax)\n",
    "ax.grid(False)\n",
    "plt.title(\"LightGBM - Feature Importance\", fontsize=15)\n",
    "plt.show()"
   ]
  },
  {
   "cell_type": "code",
   "execution_count": 28,
   "metadata": {},
   "outputs": [],
   "source": [
    "LGBPRED=lgb_clf.predict(test)\n",
    "pd.DataFrame(LGBPRED).to_csv('LGBPRED_updated.csv')\n",
    "pd.DataFrame(test).to_csv('test.csv')\n",
    "df20.to_csv('df20.csv')\n",
    "testy.to_csv('testy.csv')"
   ]
  },
  {
   "cell_type": "code",
   "execution_count": 29,
   "metadata": {},
   "outputs": [
    {
     "name": "stdout",
     "output_type": "stream",
     "text": [
      "[09:28:53] WARNING: src/objective/regression_obj.cu:152: reg:linear is now deprecated in favor of reg:squarederror.\n",
      "R^2 of the test set: 0.5912687471542575\n"
     ]
    }
   ],
   "source": [
    "import xgboost\n",
    "best_xgb_model = xgboost.XGBRegressor()\n",
    "best_xgb_model.fit(train,trainy)\n",
    "print(\"R^2 of the test set:\", r2_score(testy, best_xgb_model.predict(test)))"
   ]
  },
  {
   "cell_type": "code",
   "execution_count": 30,
   "metadata": {},
   "outputs": [],
   "source": [
    "XGB=best_xgb_model.predict(test)\n",
    "pd.DataFrame(XGB).to_csv('XGB_updated.csv')"
   ]
  },
  {
   "cell_type": "code",
   "execution_count": 31,
   "metadata": {},
   "outputs": [
    {
     "data": {
      "text/plain": [
       "array(['year', 'landlocked_d', 'island_d', 'pop_d', 'gdp_wdi_cap_cur_d',\n",
       "       'lat_d', 'lng_d', 'polity_d', 'landlocked_o', 'island_o', 'pop_o',\n",
       "       'gdp_wdi_cap_cur_o', 'lat_o', 'lng_o', 'polity_o', 'contiguity',\n",
       "       'agree_pta_goods', 'agree_pta_services', 'agree_cu', 'agree_eia',\n",
       "       'agree_fta', 'sanction_threat_trade', 'sanction_imposition_trade',\n",
       "       'member_eu_o', 'member_wto_o', 'member_gatt_o', 'member_eu_d',\n",
       "       'member_wto_d', 'member_gatt_d', 'hostility_level_o',\n",
       "       'hostility_level_d', 'distance', 'common_language',\n",
       "       'colony_of_destination_ever', 'colony_of_origin_ever', 'Tariffs'],\n",
       "      dtype=object)"
      ]
     },
     "execution_count": 31,
     "metadata": {},
     "output_type": "execute_result"
    }
   ],
   "source": [
    "feat_names = train.columns.values\n",
    "feat_names"
   ]
  },
  {
   "cell_type": "code",
   "execution_count": 32,
   "metadata": {},
   "outputs": [
    {
     "data": {
      "text/plain": [
       "array([0.02668872, 0.00274043, 0.00048489, 0.0361729 , 0.01787133,\n",
       "       0.01871462, 0.01893743, 0.34862217, 0.        , 0.00581754,\n",
       "       0.00911576, 0.02649121, 0.00387411, 0.02137559, 0.        ,\n",
       "       0.10777019, 0.00095525, 0.04411132, 0.        , 0.06871232,\n",
       "       0.00407411, 0.        , 0.        , 0.        , 0.        ,\n",
       "       0.        , 0.0041406 , 0.00152827, 0.00793288, 0.        ,\n",
       "       0.        , 0.0175396 , 0.14505415, 0.        , 0.0026034 ,\n",
       "       0.05867124], dtype=float32)"
      ]
     },
     "execution_count": 32,
     "metadata": {},
     "output_type": "execute_result"
    }
   ],
   "source": [
    "importances = best_xgb_model.feature_importances_ \n",
    "importances"
   ]
  },
  {
   "cell_type": "code",
   "execution_count": 33,
   "metadata": {},
   "outputs": [
    {
     "ename": "AttributeError",
     "evalue": "'XGBRegressor' object has no attribute 'estimators_'",
     "output_type": "error",
     "traceback": [
      "\u001b[0;31m---------------------------------------------------------------------------\u001b[0m",
      "\u001b[0;31mAttributeError\u001b[0m                            Traceback (most recent call last)",
      "\u001b[0;32m<ipython-input-33-311dc7dbcf68>\u001b[0m in \u001b[0;36m<module>\u001b[0;34m\u001b[0m\n\u001b[1;32m      2\u001b[0m \u001b[0mimportances\u001b[0m \u001b[0;34m=\u001b[0m \u001b[0mbest_xgb_model\u001b[0m\u001b[0;34m.\u001b[0m\u001b[0mfeature_importances_\u001b[0m\u001b[0;34m\u001b[0m\u001b[0;34m\u001b[0m\u001b[0m\n\u001b[1;32m      3\u001b[0m \u001b[0;34m\u001b[0m\u001b[0m\n\u001b[0;32m----> 4\u001b[0;31m \u001b[0mstd\u001b[0m \u001b[0;34m=\u001b[0m \u001b[0mnp\u001b[0m\u001b[0;34m.\u001b[0m\u001b[0mstd\u001b[0m\u001b[0;34m(\u001b[0m\u001b[0;34m[\u001b[0m\u001b[0mtree\u001b[0m\u001b[0;34m.\u001b[0m\u001b[0mfeature_importances_\u001b[0m \u001b[0;32mfor\u001b[0m \u001b[0mtree\u001b[0m \u001b[0;32min\u001b[0m \u001b[0mbest_xgb_model\u001b[0m\u001b[0;34m.\u001b[0m\u001b[0mestimators_\u001b[0m\u001b[0;34m]\u001b[0m\u001b[0;34m,\u001b[0m \u001b[0maxis\u001b[0m\u001b[0;34m=\u001b[0m\u001b[0;36m0\u001b[0m\u001b[0;34m)\u001b[0m\u001b[0;34m\u001b[0m\u001b[0;34m\u001b[0m\u001b[0m\n\u001b[0m\u001b[1;32m      5\u001b[0m \u001b[0mindices\u001b[0m \u001b[0;34m=\u001b[0m \u001b[0mnp\u001b[0m\u001b[0;34m.\u001b[0m\u001b[0margsort\u001b[0m\u001b[0;34m(\u001b[0m\u001b[0mimportances\u001b[0m\u001b[0;34m)\u001b[0m\u001b[0;34m[\u001b[0m\u001b[0;34m:\u001b[0m\u001b[0;34m:\u001b[0m\u001b[0;34m-\u001b[0m\u001b[0;36m1\u001b[0m\u001b[0;34m]\u001b[0m\u001b[0;34m\u001b[0m\u001b[0;34m\u001b[0m\u001b[0m\n\u001b[1;32m      6\u001b[0m \u001b[0;34m\u001b[0m\u001b[0m\n",
      "\u001b[0;31mAttributeError\u001b[0m: 'XGBRegressor' object has no attribute 'estimators_'"
     ]
    }
   ],
   "source": [
    "feat_names = train.columns.values\n",
    "importances = best_xgb_model.feature_importances_ \n",
    "\n",
    "std = np.std([tree.feature_importances_ for tree in best_xgb_model.estimators_], axis=0)\n",
    "indices = np.argsort(importances)[::-1]\n",
    "\n",
    "plt.figure(figsize=(12,12))\n",
    "plt.title(\"Feature importances\")\n",
    "plt.bar(range(len(indices)), importances[indices], color=\"c\", yerr=std[indices], align=\"center\")\n",
    "plt.xticks(range(len(indices)), feat_names[indices], rotation='vertical')\n",
    "plt.xlim([-1, len(indices)])\n",
    "plt.show()"
   ]
  },
  {
   "cell_type": "code",
   "execution_count": 34,
   "metadata": {},
   "outputs": [],
   "source": [
    "#train.isnull().values.any()"
   ]
  },
  {
   "cell_type": "code",
   "execution_count": 35,
   "metadata": {},
   "outputs": [
    {
     "data": {
      "text/plain": [
       "0.6469123378322812"
      ]
     },
     "execution_count": 35,
     "metadata": {},
     "output_type": "execute_result"
    }
   ],
   "source": [
    "from sklearn import ensemble\n",
    "import matplotlib.pyplot as plt\n",
    "model = ensemble.RandomForestRegressor(n_estimators=200, max_depth=20, max_features=0.5, n_jobs=-1, random_state=0)\n",
    "model.fit(train, trainy)\n",
    "from sklearn.metrics import r2_score\n",
    "r2_score(testy,model.predict(test))"
   ]
  },
  {
   "cell_type": "code",
   "execution_count": 36,
   "metadata": {},
   "outputs": [],
   "source": [
    "RF=model.predict(test)\n",
    "pd.DataFrame(RF).to_csv('RF.csv')"
   ]
  },
  {
   "cell_type": "code",
   "execution_count": 37,
   "metadata": {},
   "outputs": [
    {
     "data": {
      "image/png": "[encoded data removed]",
      "text/plain": [
       "<Figure size 864x864 with 1 Axes>"
      ]
     },
     "metadata": {
      "needs_background": "light"
     },
     "output_type": "display_data"
    }
   ],
   "source": [
    "feat_names = train.columns.values\n",
    "importances = model.feature_importances_\n",
    "std = np.std([tree.feature_importances_ for tree in model.estimators_], axis=0)\n",
    "indices = np.argsort(importances)[::-1]\n",
    "\n",
    "plt.figure(figsize=(12,12))\n",
    "plt.title(\"Feature importances\")\n",
    "plt.bar(range(len(indices)), importances[indices], color=\"y\", yerr=std[indices], align=\"center\")\n",
    "plt.xticks(range(len(indices)), feat_names[indices], rotation='vertical')\n",
    "plt.xlim([-1, len(indices)])\n",
    "plt.show()"
   ]
  },
  {
   "cell_type": "code",
   "execution_count": null,
   "metadata": {},
   "outputs": [],
   "source": []
  },
  {
   "cell_type": "code",
   "execution_count": 38,
   "metadata": {},
   "outputs": [
    {
     "data": {
      "text/plain": [
       "0.7023936664946959"
      ]
     },
     "execution_count": 38,
     "metadata": {},
     "output_type": "execute_result"
    }
   ],
   "source": [
    "from sklearn import ensemble\n",
    "import matplotlib.pyplot as plt\n",
    "model = ensemble.ExtraTreesRegressor(n_estimators=200, max_depth=20, max_features=0.5, n_jobs=-1, random_state=0)\n",
    "model.fit(train, trainy)\n",
    "from sklearn.metrics import r2_score\n",
    "r2_score(testy,model.predict(test))"
   ]
  },
  {
   "cell_type": "code",
   "execution_count": 39,
   "metadata": {},
   "outputs": [],
   "source": [
    "ExtraTreesRegressor=model.predict(test)\n",
    "pd.DataFrame(ExtraTreesRegressor).to_csv('ExtraTreesRegressor.csv')"
   ]
  },
  {
   "cell_type": "code",
   "execution_count": 40,
   "metadata": {},
   "outputs": [
    {
     "data": {
      "image/png": "[encoded data removed]",
      "text/plain": [
       "<Figure size 864x864 with 1 Axes>"
      ]
     },
     "metadata": {
      "needs_background": "light"
     },
     "output_type": "display_data"
    }
   ],
   "source": [
    "feat_names = train.columns.values\n",
    "importances = model.feature_importances_\n",
    "std = np.std([tree.feature_importances_ for tree in model.estimators_], axis=0)\n",
    "indices = np.argsort(importances)[::-1]\n",
    "\n",
    "plt.figure(figsize=(12,12))\n",
    "plt.title(\"Feature importances\")\n",
    "plt.bar(range(len(indices)), importances[indices], color=\"g\", yerr=std[indices], align=\"center\")\n",
    "plt.xticks(range(len(indices)), feat_names[indices], rotation='vertical')\n",
    "plt.xlim([-1, len(indices)])\n",
    "plt.show()"
   ]
  },
  {
   "cell_type": "code",
   "execution_count": 26,
   "metadata": {},
   "outputs": [],
   "source": [
    "## New addition\n",
    "LGBPRED=lgb_clf.predict(test)\n",
    "pd.DataFrame(LGBPRED).to_csv('LGBPRED_updated.csv')\n",
    "pd.DataFrame(test).to_csv('test.csv')\n",
    "df20.to_csv('df20.csv')\n",
    "testy.to_csv('testy.csv')\n",
    "pd.DataFrame(LGBPRED).to_csv('LGBPRED.csv')"
   ]
  },
  {
   "cell_type": "code",
   "execution_count": null,
   "metadata": {},
   "outputs": [],
   "source": []
  },
  {
   "cell_type": "code",
   "execution_count": null,
   "metadata": {},
   "outputs": [],
   "source": []
  }
 ],
 "metadata": {
  "kernelspec": {
   "display_name": "Python 3",
   "language": "python",
   "name": "python3"
  },
  "language_info": {
   "codemirror_mode": {
    "name": "ipython",
    "version": 3
   },
   "file_extension": ".py",
   "mimetype": "text/x-python",
   "name": "python",
   "nbconvert_exporter": "python",
   "pygments_lexer": "ipython3",
   "version": "3.7.4"
  }
 },
 "nbformat": 4,
 "nbformat_minor": 1
}
